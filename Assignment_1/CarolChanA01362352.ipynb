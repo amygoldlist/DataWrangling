{
 "cells": [
  {
   "cell_type": "code",
   "execution_count": null,
   "id": "9d3a332f-7bb0-4e51-b213-b2fa4c632591",
   "metadata": {},
   "outputs": [],
   "source": [
    "##This is my first assignment from Carol Chan"
   ]
  }
 ],
 "metadata": {
  "kernelspec": {
   "display_name": "Python 3 (ipykernel)",
   "language": "python",
   "name": "python3"
  },
  "language_info": {
   "codemirror_mode": {
    "name": "ipython",
    "version": 3
   },
   "file_extension": ".py",
   "mimetype": "text/x-python",
   "name": "python",
   "nbconvert_exporter": "python",
   "pygments_lexer": "ipython3",
   "version": "3.12.7"
  }
 },
 "nbformat": 4,
 "nbformat_minor": 5
}
