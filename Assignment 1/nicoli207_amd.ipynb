{
 "cells": [
  {
   "cell_type": "code",
   "execution_count": 2,
   "id": "270a96b9-f194-45bb-956f-489519b70ef8",
   "metadata": {},
   "outputs": [
    {
     "name": "stdout",
     "output_type": "stream",
     "text": [
      "Nicole's first assignment\n"
     ]
    }
   ],
   "source": [
    "print(\"Nicole's first assignment\")"
   ]
  },
  {
   "cell_type": "code",
   "execution_count": null,
   "id": "bd695b1e-5ef0-4d9b-a21b-e468e063d7a6",
   "metadata": {},
   "outputs": [],
   "source": []
  }
 ],
 "metadata": {
  "kernelspec": {
   "display_name": "Python [conda env:base] *",
   "language": "python",
   "name": "conda-base-py"
  },
  "language_info": {
   "codemirror_mode": {
    "name": "ipython",
    "version": 3
   },
   "file_extension": ".py",
   "mimetype": "text/x-python",
   "name": "python",
   "nbconvert_exporter": "python",
   "pygments_lexer": "ipython3",
   "version": "3.12.7"
  }
 },
 "nbformat": 4,
 "nbformat_minor": 5
}
